{
 "cells": [
  {
   "cell_type": "code",
   "execution_count": 15,
   "metadata": {},
   "outputs": [
    {
     "name": "stdout",
     "output_type": "stream",
     "text": [
      "b'\\xd1\\x80\\xd0\\xb0\\xd0\\xb7\\xd1\\x80\\xd0\\xb0\\xd0\\xb1\\xd0\\xbe\\xd1\\x82\\xd0\\xba\\xd0\\xb0'\n",
      "разработка\n"
     ]
    }
   ],
   "source": [
    "bytes_string1 = ('разработка').encode('utf-8')\n",
    "print(bytes_string1)\n",
    "string1 = bytes_string1.decode('utf-8')\n",
    "print(string1)"
   ]
  },
  {
   "cell_type": "code",
   "execution_count": 13,
   "metadata": {
    "scrolled": true
   },
   "outputs": [
    {
     "name": "stdout",
     "output_type": "stream",
     "text": [
      "b'\\xf1\\xee\\xea\\xe5\\xf2'\n",
      "сокет\n"
     ]
    }
   ],
   "source": [
    "bytes_string2 = ('сокет').encode('windows-1251')\n",
    "print(bytes_string2)\n",
    "string2 = bytes_string2.decode('windows-1251')\n",
    "print(string2)"
   ]
  },
  {
   "cell_type": "code",
   "execution_count": 14,
   "metadata": {
    "scrolled": true
   },
   "outputs": [
    {
     "name": "stdout",
     "output_type": "stream",
     "text": [
      "b'\\xd0\\xb4\\xd0\\xb5\\xd0\\xba\\xd0\\xbe\\xd1\\x80\\xd0\\xb0\\xd1\\x82\\xd0\\xbe\\xd1\\x80'\n",
      "декоратор\n"
     ]
    }
   ],
   "source": [
    "bytes_string3 = ('декоратор').encode('utf-8')\n",
    "print(bytes_string3)\n",
    "string3 = bytes_string3.decode('utf-8')\n",
    "print(string3)"
   ]
  },
  {
   "cell_type": "code",
   "execution_count": 22,
   "metadata": {},
   "outputs": [
    {
     "name": "stdout",
     "output_type": "stream",
     "text": [
      "b'class'\n",
      "<class 'bytes'>\n",
      "5\n"
     ]
    }
   ],
   "source": [
    "bytes1 = b'\\x63\\x6c\\x61\\x73\\x73'\n",
    "print(bytes1)\n",
    "print(type(bytes1))\n",
    "print(len(bytes1))"
   ]
  },
  {
   "cell_type": "code",
   "execution_count": 21,
   "metadata": {},
   "outputs": [
    {
     "name": "stdout",
     "output_type": "stream",
     "text": [
      "b'function'\n",
      "<class 'bytes'>\n",
      "8\n"
     ]
    }
   ],
   "source": [
    "bytes2 = b'\\x66\\x75\\x6e\\x63\\x74\\x69\\x6f\\x6e'\n",
    "print(bytes2)\n",
    "print(type(bytes2))\n",
    "print(len(bytes2))"
   ]
  },
  {
   "cell_type": "code",
   "execution_count": 14,
   "metadata": {},
   "outputs": [
    {
     "ename": "SyntaxError",
     "evalue": "invalid syntax (<ipython-input-14-a1a550e2e31b>, line 3)",
     "output_type": "error",
     "traceback": [
      "\u001b[1;36m  File \u001b[1;32m\"<ipython-input-14-a1a550e2e31b>\"\u001b[1;36m, line \u001b[1;32m3\u001b[0m\n\u001b[1;33m    print(.fromat(type(bytes3)))\u001b[0m\n\u001b[1;37m          ^\u001b[0m\n\u001b[1;31mSyntaxError\u001b[0m\u001b[1;31m:\u001b[0m invalid syntax\n"
     ]
    }
   ],
   "source": [
    "bytes3 = b'\\x6d\\x65\\x74\\x68\\x6f\\x64'\n",
    "print(bytes3)\n",
    "print(.fromat(type(bytes3)))\n",
    "print(len(bytes3))"
   ]
  },
  {
   "cell_type": "code",
   "execution_count": 7,
   "metadata": {},
   "outputs": [],
   "source": [
    "var = b'attribute'"
   ]
  },
  {
   "cell_type": "code",
   "execution_count": 8,
   "metadata": {},
   "outputs": [
    {
     "ename": "SyntaxError",
     "evalue": "bytes can only contain ASCII literal characters. (<ipython-input-8-f380626e2811>, line 1)",
     "output_type": "error",
     "traceback": [
      "\u001b[1;36m  File \u001b[1;32m\"<ipython-input-8-f380626e2811>\"\u001b[1;36m, line \u001b[1;32m1\u001b[0m\n\u001b[1;33m    var = b'класс'\u001b[0m\n\u001b[1;37m         ^\u001b[0m\n\u001b[1;31mSyntaxError\u001b[0m\u001b[1;31m:\u001b[0m bytes can only contain ASCII literal characters.\n"
     ]
    }
   ],
   "source": [
    "var = b'класс'"
   ]
  },
  {
   "cell_type": "code",
   "execution_count": 9,
   "metadata": {},
   "outputs": [
    {
     "ename": "SyntaxError",
     "evalue": "bytes can only contain ASCII literal characters. (<ipython-input-9-7ae7988e3fde>, line 1)",
     "output_type": "error",
     "traceback": [
      "\u001b[1;36m  File \u001b[1;32m\"<ipython-input-9-7ae7988e3fde>\"\u001b[1;36m, line \u001b[1;32m1\u001b[0m\n\u001b[1;33m    var = b'функция'\u001b[0m\n\u001b[1;37m         ^\u001b[0m\n\u001b[1;31mSyntaxError\u001b[0m\u001b[1;31m:\u001b[0m bytes can only contain ASCII literal characters.\n"
     ]
    }
   ],
   "source": [
    "var = b'функция'"
   ]
  },
  {
   "cell_type": "code",
   "execution_count": 10,
   "metadata": {},
   "outputs": [],
   "source": [
    "var = b'type' "
   ]
  },
  {
   "cell_type": "code",
   "execution_count": null,
   "metadata": {},
   "outputs": [],
   "source": []
  }
 ],
 "metadata": {
  "kernelspec": {
   "display_name": "Python 3",
   "language": "python",
   "name": "python3"
  },
  "language_info": {
   "codemirror_mode": {
    "name": "ipython",
    "version": 3
   },
   "file_extension": ".py",
   "mimetype": "text/x-python",
   "name": "python",
   "nbconvert_exporter": "python",
   "pygments_lexer": "ipython3",
   "version": "3.7.2"
  }
 },
 "nbformat": 4,
 "nbformat_minor": 2
}
